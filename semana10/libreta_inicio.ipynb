{
 "cells": [
  {
   "cell_type": "code",
   "execution_count": 3,
   "id": "f5dbaf94",
   "metadata": {},
   "outputs": [
    {
     "name": "stdout",
     "output_type": "stream",
     "text": [
      "                    winery             wine  year  rating  num_reviews  \\\n",
      "0            Teso La Monja            Tinto  2013     4.9           58   \n",
      "1                   Artadi    Vina El Pison  2018     4.9           31   \n",
      "2             Vega Sicilia            Unico  2009     4.8         1793   \n",
      "3             Vega Sicilia            Unico  1999     4.8         1705   \n",
      "4             Vega Sicilia            Unico  1996     4.8         1309   \n",
      "...                    ...              ...   ...     ...          ...   \n",
      "7495               Contino          Reserva  2016     4.2          392   \n",
      "7496  Conreria d'Scala Dei    Les Brugueres  2018     4.2          390   \n",
      "7497           Mustiguillo  Finca Terrerazo  2017     4.2          390   \n",
      "7498           Matarromera     Gran Reserva  2011     4.2          389   \n",
      "7499              Sei Solo         Preludio  2016     4.2          388   \n",
      "\n",
      "     country            region   price                  type  body  acidity  \n",
      "0     Espana              Toro  995.00              Toro Red   5.0      3.0  \n",
      "1     Espana    Vino de Espana  313.50           Tempranillo   4.0      2.0  \n",
      "2     Espana  Ribera del Duero  324.95  Ribera Del Duero Red   5.0      3.0  \n",
      "3     Espana  Ribera del Duero  692.96  Ribera Del Duero Red   5.0      3.0  \n",
      "4     Espana  Ribera del Duero  778.06  Ribera Del Duero Red   5.0      3.0  \n",
      "...      ...               ...     ...                   ...   ...      ...  \n",
      "7495  Espana             Rioja   19.98             Rioja Red   4.0      3.0  \n",
      "7496  Espana          Priorato   16.76           Priorat Red   4.0      3.0  \n",
      "7497  Espana      El Terrerazo   24.45                   Red   4.0      3.0  \n",
      "7498  Espana  Ribera del Duero   64.50  Ribera Del Duero Red   5.0      3.0  \n",
      "7499  Espana  Ribera del Duero   31.63  Ribera Del Duero Red   5.0      3.0  \n",
      "\n",
      "[7500 rows x 11 columns]\n"
     ]
    }
   ],
   "source": [
    "import pandas as pd\n",
    "\n",
    "data = pd.read_csv(\"wines_SPA.csv\")\n",
    "print(data)"
   ]
  }
 ],
 "metadata": {
  "kernelspec": {
   "display_name": ".venv",
   "language": "python",
   "name": "python3"
  },
  "language_info": {
   "codemirror_mode": {
    "name": "ipython",
    "version": 3
   },
   "file_extension": ".py",
   "mimetype": "text/x-python",
   "name": "python",
   "nbconvert_exporter": "python",
   "pygments_lexer": "ipython3",
   "version": "3.11.1"
  }
 },
 "nbformat": 4,
 "nbformat_minor": 5
}
